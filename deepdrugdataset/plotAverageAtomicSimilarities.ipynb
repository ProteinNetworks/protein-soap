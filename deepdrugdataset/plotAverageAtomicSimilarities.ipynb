{
 "cells": [
  {
   "cell_type": "code",
   "execution_count": null,
   "metadata": {},
   "outputs": [],
   "source": [
    "# # import json\n",
    "# import proteinnetworks\n",
    "# import numpy as np\n",
    "# # import os\n",
    "# import pandas as pd\n",
    "# # import palettable\n",
    "# from scipy.cluster import hierarchy\n",
    "# from collections import defaultdict\n",
    "# from matplotlib.colors import rgb2hex, colorConverter\n",
    "\n",
    "import sklearn.metrics\n",
    "from sklearn import svm\n",
    "\n",
    "\n",
    "# %matplotlib inline\n",
    "\n",
    "import subprocess\n",
    "import os\n",
    "from IPython.display import Image\n",
    "from IPython.display import display\n",
    "\n",
    "import h5py\n",
    "import numpy as np\n",
    "import pandas as pd\n",
    "import seaborn as sns\n",
    "import glob\n",
    "\n",
    "from palettable.colorbrewer.qualitative import Dark2_6\n"
   ]
  },
  {
   "cell_type": "markdown",
   "metadata": {},
   "source": [
    "# Pymol Viz\n",
    "\n",
    "\n",
    "This all needs pipelining properly, but now we have the dzs giving the contribution of each residue to the SVM. \n",
    "\n",
    "Carl makes a density field $ \\rho_B(r) = \\sum_{j \\in B} \\delta_{z_j, B} N \\left( r_j, \\sigma_j \\right)$, i.e a bunch of atom-centred Gaussians of width $\\sigma = 0.5 A$. \n",
    "\n",
    "I think I'll just colour residues using the b-factor then spectrum it."
   ]
  },
  {
   "cell_type": "code",
   "execution_count": null,
   "metadata": {},
   "outputs": [],
   "source": [
    "files = glob.glob(\"*_heme*.npy\")"
   ]
  },
  {
   "cell_type": "code",
   "execution_count": null,
   "metadata": {},
   "outputs": [],
   "source": [
    "labels = set(x[:10] for x in files)"
   ]
  },
  {
   "cell_type": "code",
   "execution_count": null,
   "metadata": {
    "scrolled": true
   },
   "outputs": [],
   "source": [
    "print(labels)"
   ]
  },
  {
   "cell_type": "code",
   "execution_count": null,
   "metadata": {
    "scrolled": false
   },
   "outputs": [],
   "source": [
    "for label in labels:\n",
    "    heme_means = np.load(f\"{label}_vshemes.npy\")*1000  # scale up\n",
    "    nucleo_means = np.load(f\"{label}_vsnucleos.npy\")*1000\n",
    "    # I want to highlight the most similar atoms. So zero out the atoms which have similarity less than the top-20 value.\n",
    "    top20_threshold = sorted(heme_means)[-20]\n",
    "    for i, x in enumerate(heme_means):\n",
    "        if x < top20_threshold:\n",
    "            heme_means[i] = 0\n",
    "\n",
    "    top20_threshold = sorted(nucleo_means)[-20]\n",
    "    for i, x in enumerate(nucleo_means):\n",
    "        if x < top20_threshold:\n",
    "            nucleo_means[i] = 0\n",
    "\n",
    "    \n",
    "    \n",
    "    with open(f\"../../inputs/protein-heme/{label[:5]}_converted.pdb\") as flines:\n",
    "        data = flines.readlines()\n",
    "        residueSequenceNumbers = []\n",
    "        for line in data:\n",
    "            if line.startswith(\"ATOM\"):\n",
    "                residueSequenceNumbers.append(int(line[22:26].strip()))\n",
    "    \n",
    "    assert len(residueSequenceNumbers) == len(heme_means)\n",
    "    \n",
    "    pymolScript = f\"load ../../inputs/protein-heme/{label[:5]}.pdb, {label[:5]}\\n\"\n",
    "    pymolScript += f\"alter {label[:5]}, b=-1\\n\"\n",
    "\n",
    "    for resi,b in zip(residueSequenceNumbers, heme_means): # might not work if the residue ids are off\n",
    "        pymolScript += f\"alter resi {resi}, b={b}\\n\"\n",
    "\n",
    "    pymolScript += f\"\"\"\n",
    "    #formatting\n",
    "    bg_color white\n",
    "    hide all\n",
    "    #show sticks\n",
    "    show cartoon\n",
    "    spectrum b, blue_red\n",
    "    set opaque_background=0\n",
    "    set antialias = on\n",
    "    set line_smooth = 1\n",
    "    set depth_cue = 1\n",
    "    set specular = 1\n",
    "    set surface_quality = 1\n",
    "    set stick_quality = 15\n",
    "    set sphere_quality = 2\n",
    "    set ray_trace_fog = 0.8\n",
    "    set light = (-0.2,0,-1)\n",
    "\n",
    "    set ray_shadows, 0\n",
    "    set surface_mode, 1\n",
    "    set cartoon_side_chain_helper,on\n",
    "    zoom\n",
    "    rebuild\n",
    "    \"\"\"\n",
    "    pymolScript += f\"save {label[:5]}.pse \\n\"\n",
    "    pymolScript += f\"\"\"\n",
    "    set ray_trace_mode = 1\n",
    "    png {label[:5]}.png, width=10cm, dpi=300, ray=1\n",
    "    \"\"\"\n",
    "\n",
    "    with open(\"temp.pml\", mode='w') as flines:\n",
    "        flines.write(pymolScript)\n",
    "\n",
    "    # Run quietly\n",
    "    subprocess.run([\"pymol\", \"-c\", \"temp.pml\"])\n",
    "    os.remove(\"temp.pml\")\n",
    "    display(Image(f\"{label[:5]}.png\"))\n",
    "#     os.remove(f\"{pdbRef}.png\")\n",
    "\n",
    "    "
   ]
  },
  {
   "cell_type": "code",
   "execution_count": null,
   "metadata": {},
   "outputs": [],
   "source": []
  }
 ],
 "metadata": {
  "git": {
   "suppress_outputs": true
  },
  "kernelspec": {
   "display_name": "Python 3",
   "language": "python",
   "name": "python3"
  },
  "language_info": {
   "codemirror_mode": {
    "name": "ipython",
    "version": 3
   },
   "file_extension": ".py",
   "mimetype": "text/x-python",
   "name": "python",
   "nbconvert_exporter": "python",
   "pygments_lexer": "ipython3",
   "version": "3.6.8"
  }
 },
 "nbformat": 4,
 "nbformat_minor": 2
}