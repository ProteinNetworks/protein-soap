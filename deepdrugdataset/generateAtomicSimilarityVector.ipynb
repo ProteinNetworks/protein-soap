{
 "cells": [
  {
   "cell_type": "markdown",
   "metadata": {},
   "source": [
    "# generateAtomicSimilarityVector\n",
    "\n",
    "Using the \"onevsall\" pipeline we can feed in an xyz file containing a set of proteins, and do a one-vs-all comparison of a given protein in that set.\n",
    "\n",
    "We need to then generate the mean atomic similarities for that protein."
   ]
  },
  {
   "cell_type": "code",
   "execution_count": 18,
   "metadata": {},
   "outputs": [],
   "source": [
    "import quippy\n",
    "import ase\n",
    "import numpy as np\n",
    "import h5py\n",
    "import matplotlib.pyplot as plt\n",
    "import os\n",
    "import collections \n",
    "\n",
    "%matplotlib notebook"
   ]
  },
  {
   "cell_type": "code",
   "execution_count": 3,
   "metadata": {},
   "outputs": [
    {
     "name": "stdout",
     "output_type": "stream",
     "text": [
      "3kexA_nucleo\n"
     ]
    },
    {
     "name": "stderr",
     "output_type": "stream",
     "text": [
      "/home/wpg23/.local/miniconda3/envs/python2env/lib/python2.7/site-packages/h5py/_hl/dataset.py:313: H5pyDeprecationWarning: dataset.value has been deprecated. Use dataset[()] instead.\n",
      "  \"Use dataset[()] instead.\", H5pyDeprecationWarning)\n"
     ]
    }
   ],
   "source": [
    "index = 150\n",
    "dataFile = h5py.File(\"../samples2.xyz.hdf5\", \"r\")\n",
    "labels = dataFile[\"labels\"][\"label_mat\"].value\n",
    "label = labels[index][1]\n",
    "print(label)    \n"
   ]
  },
  {
   "cell_type": "code",
   "execution_count": 4,
   "metadata": {},
   "outputs": [],
   "source": [
    "def setBFactorAndOutputPDBFile(atomObject, similarities, pdbPath):\n",
    "    \"\"\"\n",
    "    Given an Atoms object and the similarities for each atom, set the b-factor for the Atoms as the similarities then\n",
    "    output the Atoms as a PDB for PyMoL viz (which I'll need to do locally)\n",
    "    \"\"\"\n",
    "    assert len(atomObject.arrays[\"positions\"] == len(similarities))\n",
    "    atomObject.arrays[\"bfactor\"] = np.asarray(similarities)\n",
    "    ase.io.write(pdbPath, atomObject, format=\"proteindatabank\")"
   ]
  },
  {
   "cell_type": "code",
   "execution_count": 11,
   "metadata": {},
   "outputs": [],
   "source": [
    "# Plot the average and std for each class, for the third protein\n",
    "def generatePDBfileGivingAverageSimilarity(index, file_root, xyz_file_name):\n",
    "#     dataFile = h5py.File(\"{0}/{1}.hdf5\".format(file_root, xyz_file_name), \"r\")\n",
    "#     labels = dataFile[\"labels\"][\"label_mat\"].value\n",
    "#     label = labels[index][1]\n",
    "#     print(label)\n",
    "    # Get atomic similarity differences between the two classes\n",
    "    hemes = []\n",
    "    nucleos = []\n",
    "    \n",
    "    for i, tag in enumerate(labels):\n",
    "        kerns = np.load(\"{0}/basematrices/{1}_{2}_kerns.npy\".format(file_root,index,i))\n",
    "        perms = np.load(\"{0}/basematrices/{1}_{2}_perms.npy\".format(file_root,index,i))\n",
    "        atomic_similarity = kerns*perms\n",
    "        # The similarity between each atom of the test protein and the target protein \n",
    "        atomic_similarity = np.sum(atomic_similarity, axis=1)\n",
    "        tag = tag[1]\n",
    "        if \"heme\" in tag:\n",
    "            hemes.append(atomic_similarity)\n",
    "        else:\n",
    "            nucleos.append(atomic_similarity)\n",
    "\n",
    "    hemes = np.asarray(hemes)\n",
    "    nucleos = np.asarray(nucleos)\n",
    "    \n",
    "    heme_means = np.mean(hemes, axis=0)\n",
    "    nucleo_means = np.mean(nucleos, axis=0)\n",
    "        \n",
    "    atom_reader = quippy.AtomsReader(xyz_file_name, format=\"xyz\")\n",
    "    # Crude, but quick enough for now\n",
    "    for temp_protein in atom_reader:\n",
    "        if temp_protein.params[\"tag\"] == label:\n",
    "            protein = temp_protein\n",
    "            break\n",
    "    else:\n",
    "        print(\"Protein not found!\")\n",
    "        raise ValueError\n",
    "    assert protein.params[\"tag\"] == label\n",
    "    \n",
    "    assert len(heme_means) == len(protein.arrays[\"positions\"])\n",
    "\n",
    "    assert len(nucleo_means) == len(protein.arrays[\"positions\"])\n",
    "\n",
    "#     # I want to highlight the most similar atoms. So zero out the atoms which have similarity less than the top-20 value.\n",
    "#     top20_threshold = sorted(heme_means)[-20]\n",
    "#     for i, x in enumerate(heme_means):\n",
    "#         if x < top20_threshold:\n",
    "#             heme_means[i] = 0\n",
    "\n",
    "#     top20_threshold = sorted(nucleo_means)[-20]\n",
    "#     for i, x in enumerate(nucleo_means):\n",
    "#         if x < top20_threshold:\n",
    "#             nucleo_means[i] = 0\n",
    "    # scale to 1, as otherwise the b-factors round out\n",
    "    heme_means /= heme_means.max()\n",
    "    nucleo_means /= nucleo_means.max()\n",
    "\n",
    "    if not os.path.exists(\"{0}/averageSim\".format(file_root)):\n",
    "        os.mkdir(\"{0}/averageSim\".format(file_root))\n",
    "        \n",
    "    setBFactorAndOutputPDBFile(protein, heme_means, \"{0}/averageSim/{1}_vshemes.pdb\".format(file_root,label))\n",
    "    setBFactorAndOutputPDBFile(protein, nucleo_means, \"{0}/averageSim/{1}_vsnucleos.pdb\".format(file_root,label))\n",
    "    \n",
    "    "
   ]
  },
  {
   "cell_type": "code",
   "execution_count": 12,
   "metadata": {},
   "outputs": [
    {
     "ename": "IOError",
     "evalue": "[Errno 2] No such file or directory: 'basematrices/150_0_kerns.npy'",
     "output_type": "error",
     "traceback": [
      "\u001b[0;31m---------------------------------------------------------------------------\u001b[0m",
      "\u001b[0;31mIOError\u001b[0m                                   Traceback (most recent call last)",
      "\u001b[0;32m<ipython-input-12-97fe345da3d7>\u001b[0m in \u001b[0;36m<module>\u001b[0;34m()\u001b[0m\n\u001b[1;32m      1\u001b[0m \u001b[0marrays\u001b[0m \u001b[0;34m=\u001b[0m \u001b[0;34m[\u001b[0m\u001b[0;34m]\u001b[0m\u001b[0;34m\u001b[0m\u001b[0m\n\u001b[1;32m      2\u001b[0m \u001b[0;32mfor\u001b[0m \u001b[0mi\u001b[0m\u001b[0;34m,\u001b[0m \u001b[0mtag\u001b[0m \u001b[0;32min\u001b[0m \u001b[0menumerate\u001b[0m\u001b[0;34m(\u001b[0m\u001b[0mlabels\u001b[0m\u001b[0;34m)\u001b[0m\u001b[0;34m:\u001b[0m\u001b[0;34m\u001b[0m\u001b[0m\n\u001b[0;32m----> 3\u001b[0;31m     \u001b[0mkerns\u001b[0m \u001b[0;34m=\u001b[0m \u001b[0mnp\u001b[0m\u001b[0;34m.\u001b[0m\u001b[0mload\u001b[0m\u001b[0;34m(\u001b[0m\u001b[0;34m\"basematrices/{0}_{1}_kerns.npy\"\u001b[0m\u001b[0;34m.\u001b[0m\u001b[0mformat\u001b[0m\u001b[0;34m(\u001b[0m\u001b[0mindex\u001b[0m\u001b[0;34m,\u001b[0m\u001b[0mi\u001b[0m\u001b[0;34m)\u001b[0m\u001b[0;34m)\u001b[0m\u001b[0;34m\u001b[0m\u001b[0m\n\u001b[0m\u001b[1;32m      4\u001b[0m     \u001b[0mperms\u001b[0m \u001b[0;34m=\u001b[0m \u001b[0mnp\u001b[0m\u001b[0;34m.\u001b[0m\u001b[0mload\u001b[0m\u001b[0;34m(\u001b[0m\u001b[0;34m\"basematrices/{0}_{1}_perms.npy\"\u001b[0m\u001b[0;34m.\u001b[0m\u001b[0mformat\u001b[0m\u001b[0;34m(\u001b[0m\u001b[0mindex\u001b[0m\u001b[0;34m,\u001b[0m\u001b[0mi\u001b[0m\u001b[0;34m)\u001b[0m\u001b[0;34m)\u001b[0m\u001b[0;34m\u001b[0m\u001b[0m\n\u001b[1;32m      5\u001b[0m     \u001b[0matomic_similarity\u001b[0m \u001b[0;34m=\u001b[0m \u001b[0mkerns\u001b[0m\u001b[0;34m*\u001b[0m\u001b[0mperms\u001b[0m\u001b[0;34m\u001b[0m\u001b[0m\n",
      "\u001b[0;32m/home/wpg23/.local/miniconda3/envs/python2env/lib/python2.7/site-packages/numpy/lib/npyio.pyc\u001b[0m in \u001b[0;36mload\u001b[0;34m(file, mmap_mode, allow_pickle, fix_imports, encoding)\u001b[0m\n\u001b[1;32m    420\u001b[0m         \u001b[0mown_fid\u001b[0m \u001b[0;34m=\u001b[0m \u001b[0mFalse\u001b[0m\u001b[0;34m\u001b[0m\u001b[0m\n\u001b[1;32m    421\u001b[0m     \u001b[0;32melse\u001b[0m\u001b[0;34m:\u001b[0m\u001b[0;34m\u001b[0m\u001b[0m\n\u001b[0;32m--> 422\u001b[0;31m         \u001b[0mfid\u001b[0m \u001b[0;34m=\u001b[0m \u001b[0mopen\u001b[0m\u001b[0;34m(\u001b[0m\u001b[0mos_fspath\u001b[0m\u001b[0;34m(\u001b[0m\u001b[0mfile\u001b[0m\u001b[0;34m)\u001b[0m\u001b[0;34m,\u001b[0m \u001b[0;34m\"rb\"\u001b[0m\u001b[0;34m)\u001b[0m\u001b[0;34m\u001b[0m\u001b[0m\n\u001b[0m\u001b[1;32m    423\u001b[0m         \u001b[0mown_fid\u001b[0m \u001b[0;34m=\u001b[0m \u001b[0mTrue\u001b[0m\u001b[0;34m\u001b[0m\u001b[0m\n\u001b[1;32m    424\u001b[0m \u001b[0;34m\u001b[0m\u001b[0m\n",
      "\u001b[0;31mIOError\u001b[0m: [Errno 2] No such file or directory: 'basematrices/150_0_kerns.npy'"
     ]
    }
   ],
   "source": [
    "arrays = []\n",
    "for i, tag in enumerate(labels):\n",
    "    kerns = np.load(\"basematrices/{0}_{1}_kerns.npy\".format(index,i))\n",
    "    perms = np.load(\"basematrices/{0}_{1}_perms.npy\".format(index,i))\n",
    "    atomic_similarity = kerns*perms\n",
    "    arrays.append(atomic_similarity)"
   ]
  },
  {
   "cell_type": "code",
   "execution_count": 70,
   "metadata": {},
   "outputs": [],
   "source": [
    "array_dict = dict(zip([x[1] for x in labels], arrays))\n",
    "np.savez_compressed(file=\"150\", **array_dict)"
   ]
  },
  {
   "cell_type": "markdown",
   "metadata": {},
   "source": [
    "## Parameter Sweep\n"
   ]
  },
  {
   "cell_type": "code",
   "execution_count": 80,
   "metadata": {
    "scrolled": false
   },
   "outputs": [
    {
     "name": "stdout",
     "output_type": "stream",
     "text": [
      "3kexA_nucleo\n"
     ]
    }
   ],
   "source": [
    "file_root = \"xi3sigma05\"\n",
    "xyz_file_name = \"samples2.xyz\"\n",
    "generatePDBfileGivingAverageSimilarity(index, file_root, xyz_file_name)"
   ]
  },
  {
   "cell_type": "code",
   "execution_count": 81,
   "metadata": {},
   "outputs": [
    {
     "name": "stdout",
     "output_type": "stream",
     "text": [
      "3kexA_nucleo\n"
     ]
    }
   ],
   "source": [
    "file_root = \"xi3sigma1\"\n",
    "xyz_file_name = \"samples2.xyz\"\n",
    "generatePDBfileGivingAverageSimilarity(index, file_root, xyz_file_name)"
   ]
  },
  {
   "cell_type": "code",
   "execution_count": 82,
   "metadata": {},
   "outputs": [
    {
     "name": "stdout",
     "output_type": "stream",
     "text": [
      "3kexA_nucleo\n"
     ]
    }
   ],
   "source": [
    "file_root = \"xi3sigma1N5\"\n",
    "xyz_file_name = \"samples2.xyz\"\n",
    "generatePDBfileGivingAverageSimilarity(index, file_root, xyz_file_name)"
   ]
  },
  {
   "cell_type": "code",
   "execution_count": 83,
   "metadata": {},
   "outputs": [
    {
     "name": "stdout",
     "output_type": "stream",
     "text": [
      "3kexA_nucleo\n"
     ]
    }
   ],
   "source": [
    "file_root = \"xi5sigma1\"\n",
    "xyz_file_name = \"samples2.xyz\"\n",
    "generatePDBfileGivingAverageSimilarity(index, file_root, xyz_file_name)"
   ]
  },
  {
   "cell_type": "code",
   "execution_count": 6,
   "metadata": {},
   "outputs": [
    {
     "name": "stdout",
     "output_type": "stream",
     "text": [
      "/rds/user/wpg23/hpc-work/soapxxDir/compareAtomicSimilarities/onevsall\r\n"
     ]
    }
   ],
   "source": [
    "!pwd"
   ]
  },
  {
   "cell_type": "code",
   "execution_count": 13,
   "metadata": {},
   "outputs": [],
   "source": [
    "file_root = \"r10xi5sigma1\"\n",
    "xyz_file_name = \"samples2.xyz\"\n",
    "generatePDBfileGivingAverageSimilarity(index, file_root, xyz_file_name)"
   ]
  },
  {
   "cell_type": "code",
   "execution_count": 16,
   "metadata": {},
   "outputs": [],
   "source": [
    "# This function is much, much too big, and does many different things.\n",
    "def generatePDBfileGivingAverageAndCounterSimilarity(index, file_root, xyz_file_name):\n",
    "#     dataFile = h5py.File(\"{0}/{1}.hdf5\".format(file_root, xyz_file_name), \"r\")\n",
    "#     labels = dataFile[\"labels\"][\"label_mat\"].value\n",
    "#     label = labels[index][1]\n",
    "#     print(label)\n",
    "    # Get atomic similarity differences between the two classes\n",
    "    hemes = []\n",
    "    nucleos = []\n",
    "    heme_indices = []\n",
    "    nucleo_indices = []\n",
    "\n",
    "    for i, tag in enumerate(labels):\n",
    "        kerns = np.load(\"{0}/basematrices/{1}_{2}_kerns.npy\".format(file_root,index,i))\n",
    "        perms = np.load(\"{0}/basematrices/{1}_{2}_perms.npy\".format(file_root,index,i))\n",
    "        atomic_similarity = kerns*perms\n",
    "        # The similarity between each atom of the test protein and the target protein \n",
    "        atomic_similarity = np.sum(atomic_similarity, axis=1)\n",
    "        indices = np.argsort(atomic_similarity)\n",
    "\n",
    "        tag = tag[1]\n",
    "        if \"heme\" in tag:\n",
    "            hemes.append(atomic_similarity)\n",
    "            heme_indices.append(indices)\n",
    "        else:\n",
    "            nucleos.append(atomic_similarity)\n",
    "            nucleo_indices.append(indices)\n",
    "\n",
    "\n",
    "    hemes = np.asarray(hemes)\n",
    "    nucleos = np.asarray(nucleos)\n",
    "    \n",
    "    heme_means = np.mean(hemes, axis=0)\n",
    "    nucleo_means = np.mean(nucleos, axis=0)\n",
    "        \n",
    "    atom_reader = quippy.AtomsReader(xyz_file_name, format=\"xyz\")\n",
    "    # Crude, but quick enough for now\n",
    "    for temp_protein in atom_reader:\n",
    "        if temp_protein.params[\"tag\"] == label:\n",
    "            protein = temp_protein\n",
    "            break\n",
    "    else:\n",
    "        print(\"Protein not found!\")\n",
    "        raise ValueError\n",
    "    assert protein.params[\"tag\"] == label\n",
    "    \n",
    "    assert len(heme_means) == len(protein.arrays[\"positions\"])\n",
    "    assert len(nucleo_means) == len(protein.arrays[\"positions\"])\n",
    "\n",
    "#     # I want to highlight the most similar atoms. So zero out the atoms which have similarity less than the top-20 value.\n",
    "#     top20_threshold = sorted(heme_means)[-20]\n",
    "#     for i, x in enumerate(heme_means):\n",
    "#         if x < top20_threshold:\n",
    "#             heme_means[i] = 0\n",
    "\n",
    "#     top20_threshold = sorted(nucleo_means)[-20]\n",
    "#     for i, x in enumerate(nucleo_means):\n",
    "#         if x < top20_threshold:\n",
    "#             nucleo_means[i] = 0\n",
    "    # scale to 1, as otherwise the b-factors round out\n",
    "    heme_means /= heme_means.max()\n",
    "    nucleo_means /= nucleo_means.max()\n",
    "\n",
    "    if not os.path.exists(\"{0}/averageSim\".format(file_root)):\n",
    "        os.mkdir(\"{0}/averageSim\".format(file_root))\n",
    "        \n",
    "    setBFactorAndOutputPDBFile(protein, heme_means, \"{0}/averageSim/{1}_vshemes.pdb\".format(file_root,label))\n",
    "    setBFactorAndOutputPDBFile(protein, nucleo_means, \"{0}/averageSim/{1}_vsnucleos.pdb\".format(file_root,label))\n",
    "    \n",
    "      \n",
    "    counter = collections.Counter()\n",
    "    for row in heme_indices:\n",
    "        counter.update(row[-10:])\n",
    "\n",
    "    counter_heme_similarities = np.zeros(len(protein.arrays[\"positions\"]))\n",
    "    for index, count in counter.most_common():\n",
    "        counter_heme_similarities[index] = count\n",
    "\n",
    "    counter = collections.Counter()\n",
    "    for row in nucleo_indices:\n",
    "        counter.update(row[-10:])\n",
    "\n",
    "    counter_nucleo_similarities = np.zeros(len(protein.arrays[\"positions\"]))\n",
    "    for index, count in counter.most_common():\n",
    "        counter_nucleo_similarities[index] = count\n",
    "    \n",
    "    if not os.path.exists(\"{0}/counterSim\".format(file_root)):\n",
    "        os.mkdir(\"{0}/counterSim\".format(file_root))\n",
    "\n",
    "    setBFactorAndOutputPDBFile(protein, counter_heme_similarities, \"{0}/counterSim/{1}_vshemes.pdb\".format(file_root,label))\n",
    "    setBFactorAndOutputPDBFile(protein, counter_nucleo_similarities, \"{0}/counterSim/{1}_vsnucleos.pdb\".format(file_root,label))\n",
    "    \n",
    "    "
   ]
  },
  {
   "cell_type": "code",
   "execution_count": 19,
   "metadata": {},
   "outputs": [],
   "source": [
    "file_root = \"r10xi5sigma1\"\n",
    "xyz_file_name = \"samples2.xyz\"\n",
    "generatePDBfileGivingAverageAndCounterSimilarity(index, file_root, xyz_file_name)"
   ]
  },
  {
   "cell_type": "code",
   "execution_count": null,
   "metadata": {},
   "outputs": [],
   "source": []
  }
 ],
 "metadata": {
  "kernelspec": {
   "display_name": "Python 2",
   "language": "python",
   "name": "python2"
  },
  "language_info": {
   "codemirror_mode": {
    "name": "ipython",
    "version": 2
   },
   "file_extension": ".py",
   "mimetype": "text/x-python",
   "name": "python",
   "nbconvert_exporter": "python",
   "pygments_lexer": "ipython2",
   "version": "2.7.15"
  }
 },
 "nbformat": 4,
 "nbformat_minor": 2
}
