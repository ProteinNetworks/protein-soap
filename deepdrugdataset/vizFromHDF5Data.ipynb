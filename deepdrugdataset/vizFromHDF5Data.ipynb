{
 "cells": [
  {
   "cell_type": "code",
   "execution_count": null,
   "metadata": {},
   "outputs": [],
   "source": [
    "# # import json\n",
    "# import proteinnetworks\n",
    "# import numpy as np\n",
    "# # import os\n",
    "# import pandas as pd\n",
    "# # import palettable\n",
    "# from scipy.cluster import hierarchy\n",
    "# from collections import defaultdict\n",
    "# from matplotlib.colors import rgb2hex, colorConverter\n",
    "\n",
    "import sklearn.metrics\n",
    "from sklearn import svm\n",
    "\n",
    "\n",
    "# %matplotlib inline\n",
    "\n",
    "# import subprocess\n",
    "# import os\n",
    "# from IPython.display import Image\n",
    "# from IPython.display import display\n",
    "\n",
    "import h5py\n",
    "import numpy as np\n",
    "import pandas as pd\n",
    "import seaborn as sns\n",
    "\n",
    "from palettable.colorbrewer.qualitative import Dark2_6\n"
   ]
  },
  {
   "cell_type": "code",
   "execution_count": null,
   "metadata": {},
   "outputs": [],
   "source": [
    "db = proteinnetworks.database.Database()"
   ]
  },
  {
   "cell_type": "markdown",
   "metadata": {},
   "source": [
    "# SOAPXX\n",
    "\n",
    "Now repeat this analysis with the SOAPXX platform"
   ]
  },
  {
   "cell_type": "code",
   "execution_count": null,
   "metadata": {
    "scrolled": false
   },
   "outputs": [],
   "source": [
    "\n",
    "# tempDirectoryName = \"tempScop\"\n",
    "\n",
    "hdf5_path = \"./sampledDataSet/output/samples_residues.hdf5\"\n",
    "\n",
    "\n",
    "f = h5py.File(hdf5_path, \"r\")\n",
    "\n",
    "kernels = f['kernel']['kernel_mat'].value\n",
    "\n",
    "labels = f[\"labels\"][\"label_mat\"].value\n",
    "f.close()"
   ]
  },
  {
   "cell_type": "code",
   "execution_count": null,
   "metadata": {},
   "outputs": [],
   "source": [
    "labels = [x[1].decode() for x in labels]"
   ]
  },
  {
   "cell_type": "code",
   "execution_count": null,
   "metadata": {},
   "outputs": [],
   "source": [
    "kernel_df = pd.DataFrame(kernels, columns=labels)\n",
    "kernel_df.head()"
   ]
  },
  {
   "cell_type": "code",
   "execution_count": null,
   "metadata": {},
   "outputs": [],
   "source": [
    "# Plot the scop classes as colourrows\n",
    "palette = Dark2_6.hex_colors\n",
    "colours = []\n",
    "for label in kernel_df.columns:\n",
    "    if label.endswith(\"heme\"):\n",
    "        colours.append(palette[0])\n",
    "    elif label.endswith(\"nucleo\"):\n",
    "        colours.append(palette[1])\n",
    "    else:\n",
    "        raise ValueError"
   ]
  },
  {
   "cell_type": "code",
   "execution_count": null,
   "metadata": {},
   "outputs": [],
   "source": [
    "g = sns.clustermap(kernel_df, yticklabels=\"auto\", figsize=(15,15), row_colors=colours)\n",
    "g.savefig(\"bindingsites.png\", dpi=300)\n",
    "# scopg.savefig(\"AandBSCOPClasses.png\", dpi=300)\n"
   ]
  },
  {
   "cell_type": "markdown",
   "metadata": {},
   "source": [
    "# SVM stuff\n",
    "\n",
    "- Run SVM using this kernel\n",
    "- Extract the relevant params from the SVM (what they?)\n",
    "- Get the pij and kij from SOAPXX\n",
    "\n",
    "Each atom's contribution to the classifer is given by:\n",
    "\n",
    "\\begin{equation*}\n",
    "\\delta_{Z_J, B} = \\sum_{A} \\alpha_{A} y_{A}  \\sum_{i \\in A}  P_{ij} k_{ij}(A,B) + \\frac{\\beta}{|B|}\n",
    "\\end{equation*}\n",
    "\n",
    "This is the contribution of an individual atomic environment j in structure B to the decision.\n",
    "\n",
    "- $ \\alpha_{A} y_{A}$ are the SVM coefficients, optimised using sklearn.\n",
    "- $\\beta$ is the decision threshold.\n",
    "- These are extracted from the SVM classifier\n",
    "\n",
    "\n",
    "- $P_{ij}$ is the permutation matrix mapping enviromments in A to environments in B.\n",
    "- $k_{ij}(A,B)$ is the SOAP kernel between atomic environments $i \\in A$ and $j \\in B$\n",
    "- These are extracted from SOAPXX\n",
    "\n",
    "\n"
   ]
  },
  {
   "cell_type": "code",
   "execution_count": null,
   "metadata": {},
   "outputs": [],
   "source": [
    "def shuffledCopies(a, b):\n",
    "    \"\"\"Shuffled a and b, where a is 1d and b is 2d symmetric\"\"\"\n",
    "    assert len(a) == len(b)\n",
    "    p = np.random.permutation(len(a))\n",
    "    shuffled = b[p]\n",
    "    b = shuffled[:,p]\n",
    "    return a[p], b"
   ]
  },
  {
   "cell_type": "code",
   "execution_count": null,
   "metadata": {},
   "outputs": [],
   "source": [
    "labels = [\"heme\" if x == palette[0] else \"nucleo\" for x in colours]\n"
   ]
  },
  {
   "cell_type": "code",
   "execution_count": null,
   "metadata": {},
   "outputs": [],
   "source": [
    "kernelLabels, kernelData = shuffledCopies(np.asarray(labels), kernels)\n",
    "# kernelLabels, kernelData = (np.asarray(scopClassLabels), soapxxScopData)\n"
   ]
  },
  {
   "cell_type": "code",
   "execution_count": null,
   "metadata": {},
   "outputs": [],
   "source": [
    "trainSize = int(len(kernelData)*2/3)\n",
    "x_train = kernelData[:trainSize, :trainSize]\n",
    "x_test = kernelData[trainSize:, :trainSize]\n",
    "y_train = kernelLabels[:trainSize]\n",
    "y_test = kernelLabels[trainSize:]\n",
    "clf = svm.SVC(kernel=\"precomputed\", verbose=False, max_iter=1e9, C=1)\n",
    "clf.fit(x_train, y_train)\n",
    "y_pred = clf.predict(x_test)\n",
    "scores = sklearn.metrics.classification_report(y_test, y_pred) #  output_dict=True)\n",
    "print(scores)\n"
   ]
  },
  {
   "cell_type": "code",
   "execution_count": null,
   "metadata": {},
   "outputs": [],
   "source": [
    "def getAtomicContributionGivenAtomAndStructure(clf, atomIndex, structureIndex):\n",
    "    \"\"\"\n",
    "    Given a atom index j and a structure index B, get the contribution to the  decision function.\n",
    "    \n",
    "    \\delta_{Z_J, B} = \\sum_{A} \\alpha_{A} y_{A}  \\sum_{i \\in A}  P_{ij} k_{ij}(A,B) + \\frac{\\beta}{|B|}\n",
    "    \"\"\"\n",
    "    \n",
    "    dz = 0.0\n",
    "    # Loop over structures A \n",
    "    for dualcoef, supportIndex in zip(clf.dual_coef_[0], clf.support_):\n",
    "        # Which way round should these indices be?\n",
    "        p_base = np.load(f\"./soapxxSVM/dataBackup3/tempScop_tagged_perms_{structureIndex}_{supportIndex}.dat.npy\")\n",
    "        k_base = np.load(f\"./soapxxSVM/dataBackup3/tempScop_tagged_kerns_{structureIndex}_{supportIndex}.dat.npy\")\n",
    "        # Loop over each atom i in structure A       \n",
    "        p_base_row = p_base[atomIndex] # should be a row of length (atoms in supportIndex)\n",
    "        k_base_row = k_base[atomIndex] # should be a row of length (atoms in supportIndex)\n",
    "        dz += dualcoef*np.sum(p_base_row*k_base_row)\n",
    "        \n",
    "    sizeOfB = len(p_base) \n",
    "    dz += clf.intercept_ /sizeOfB\n",
    "    return dz\n"
   ]
  },
  {
   "cell_type": "markdown",
   "metadata": {},
   "source": [
    "# Pymol Viz\n",
    "\n",
    "\n",
    "This all needs pipelining properly, but now we have the dzs giving the contribution of each residue to the SVM. \n",
    "\n",
    "Carl makes a density field $ \\rho_B(r) = \\sum_{j \\in B} \\delta_{z_j, B} N \\left( r_j, \\sigma_j \\right)$, i.e a bunch of atom-centred Gaussians of width $\\sigma = 0.5 A$. \n",
    "\n",
    "I think I'll just colour residues using the b-factor then spectrum it."
   ]
  },
  {
   "cell_type": "code",
   "execution_count": null,
   "metadata": {},
   "outputs": [],
   "source": [
    "with open(f\"tempScop/{scopPaths[10]}.pdb\") as flines:\n",
    "    data = flines.readlines()\n",
    "    \n",
    "residueSequenceNumbers = []\n",
    "for line in data:\n",
    "    residueSequenceNumbers.append(line[22:26].strip())"
   ]
  },
  {
   "cell_type": "code",
   "execution_count": null,
   "metadata": {},
   "outputs": [],
   "source": [
    "def plotAtomicContributionsGivenDeltaZMappingAndPDBRef(deltaZmapping, pdbRef, chainRef):\n",
    "    \"\"\"\n",
    "    Given the PDB reference, chain reference and a list of (residueNumber, deltaZ) tuples,\n",
    "    Plot the deltaZs onto the structure.\n",
    "    \"\"\"\n",
    "    PDBData = db.extractPDBFile(pdbRef)\n",
    "\n",
    "    data = np.asarray([line.strip() for line in PDBData\n",
    "                       if line[:4] == \"ATOM\"\n",
    "                       and line[21] == chainRef\n",
    "                      ])\n",
    "    with open(\"temp.pdb\", \"w\") as flines:\n",
    "        flines.write(\"\\n\".join(data))\n",
    "\n",
    "    dzs = [x[1] for x in deltaZmapping]\n",
    "    \n",
    "    # Make the spectrum symmetric\n",
    "    lowestValue = min(x[0] for x in dzs)\n",
    "    highestValue = max(x[0] for x in dzs)\n",
    "    if lowestValue < 0 and highestValue > 0:\n",
    "        if abs(lowestValue) > highestValue:\n",
    "            highestValue = - lowestValue\n",
    "        elif abs(lowestValue) < highestValue:\n",
    "            lowestValue = -highestValue    \n",
    "\n",
    "    pymolScript = f\"load temp.pdb, {pdbRef}\\n\"\n",
    "    pymolScript += f\"alter {pdbRef}, b=-1\\n\"\n",
    "\n",
    "    for resi,dz in deltaZmapping: # might not work if the residue ids are off\n",
    "        pymolScript += f\"alter resi {resi}, b={dz[0]}\\n\"\n",
    "\n",
    "    pymolScript += f\"\"\"\n",
    "    #formatting\n",
    "    bg_color white\n",
    "    hide all\n",
    "    #show sticks\n",
    "    show cartoon\n",
    "    spectrum b, blue_white_red, minimum={lowestValue}, maximum={highestValue}\n",
    "    set opaque_background=0\n",
    "    set antialias = on\n",
    "    set line_smooth = 1\n",
    "    set depth_cue = 1\n",
    "    set specular = 1\n",
    "    set surface_quality = 1\n",
    "    set stick_quality = 15\n",
    "    set sphere_quality = 2\n",
    "    set ray_trace_fog = 0.8\n",
    "    set light = (-0.2,0,-1)\n",
    "\n",
    "    set ray_shadows, 0\n",
    "    set surface_mode, 1\n",
    "    set cartoon_side_chain_helper,on\n",
    "    zoom\n",
    "    rebuild\n",
    "    \"\"\"\n",
    "    pymolScript += f\"save {pdbRef}.pse \\n\"\n",
    "    pymolScript += f\"\"\"\n",
    "    set ray_trace_mode = 1\n",
    "    png {pdbRef}.png, width=10cm, dpi=300, ray=1\n",
    "    \"\"\"\n",
    "\n",
    "    with open(\"temp.pml\", mode='w') as flines:\n",
    "        flines.write(pymolScript)\n",
    "\n",
    "    # Run quietly\n",
    "    subprocess.run([\"pymol\", \"-c\", \"temp.pml\"])\n",
    "    os.remove(\"temp.pml\")\n",
    "    os.remove(\"temp.pdb\")\n",
    "    display(Image(f\"{pdbRef}.png\"))\n",
    "#     os.remove(f\"{pdbRef}.png\")\n"
   ]
  },
  {
   "cell_type": "code",
   "execution_count": null,
   "metadata": {},
   "outputs": [],
   "source": [
    "def plotAtomicContributionsGivenIndexOnSCOPPaths(indexNumber):\n",
    "    \"\"\"\n",
    "    Given an index to SCOPPaths (the list of what label corresponds to what row of the kernel matrix),\n",
    "    find the atomic contributions, then plot them.\n",
    "    \"\"\"\n",
    "    global scopPaths\n",
    "    \n",
    "    pdbRef, chainRef, *_ = scopPaths[indexNumber].split(\"_\")\n",
    "    print(pdbRef, chainRef)\n",
    "    data = !grep {scopPaths[indexNumber]}  soapxxSVM/dataBackup3/tempScop_tagged.xyz -B 1\n",
    "    sizeOfStructure = int(data[0])\n",
    "    dzs= []\n",
    "    for atomIndex in range(sizeOfStructure):\n",
    "        dz = getAtomicContributionGivenAtomAndStructure(clf, atomIndex,indexNumber)\n",
    "        dzs.append(dz)\n",
    "    with open(f\"tempScop/{scopPaths[indexNumber]}.pdb\") as flines:\n",
    "        data = flines.readlines()\n",
    "    residueSequenceNumbers = []\n",
    "    for line in data:\n",
    "        residueSequenceNumbers.append(line[22:26].strip())\n",
    "        \n",
    "        \n",
    "    plotAtomicContributionsGivenDeltaZMappingAndPDBRef(list(zip(residueSequenceNumbers,dzs)), pdbRef, chainRef)\n"
   ]
  },
  {
   "cell_type": "code",
   "execution_count": null,
   "metadata": {},
   "outputs": [],
   "source": [
    "plotAtomicContributionsGivenIndexOnSCOPPaths(10)"
   ]
  },
  {
   "cell_type": "code",
   "execution_count": null,
   "metadata": {},
   "outputs": [],
   "source": [
    "plotAtomicContributionsGivenIndexOnSCOPPaths(1)"
   ]
  },
  {
   "cell_type": "code",
   "execution_count": null,
   "metadata": {
    "scrolled": true
   },
   "outputs": [],
   "source": [
    "for i in range(len(scopPaths)):\n",
    "    plotAtomicContributionsGivenIndexOnSCOPPaths(i)"
   ]
  },
  {
   "cell_type": "code",
   "execution_count": null,
   "metadata": {
    "scrolled": true
   },
   "outputs": [],
   "source": [
    "for i, path in enumerate((scopPaths)):\n",
    "    pdbRef, chainRef, *_ = scopPaths[i].split(\"_\")\n",
    "    print(f\"<h2>pdbRef: {pdbRef}, chainRef: {chainRef} </h2>\")\n",
    "    print(f\"<img src=\\\"svmPngs/{pdbRef}.png\\\">\")\n",
    "    print()\n"
   ]
  },
  {
   "cell_type": "code",
   "execution_count": null,
   "metadata": {},
   "outputs": [],
   "source": []
  }
 ],
 "metadata": {
  "git": {
   "suppress_outputs": true
  },
  "kernelspec": {
   "display_name": "Python 3",
   "language": "python",
   "name": "python3"
  },
  "language_info": {
   "codemirror_mode": {
    "name": "ipython",
    "version": 3
   },
   "file_extension": ".py",
   "mimetype": "text/x-python",
   "name": "python",
   "nbconvert_exporter": "python",
   "pygments_lexer": "ipython3",
   "version": "3.6.8"
  }
 },
 "nbformat": 4,
 "nbformat_minor": 2
}