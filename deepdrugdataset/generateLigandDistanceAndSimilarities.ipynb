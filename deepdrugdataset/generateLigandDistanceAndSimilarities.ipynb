{
 "cells": [
  {
   "cell_type": "markdown",
   "metadata": {},
   "source": [
    "# generateLigandDistanceAndSimilarities\n",
    "\n",
    "\n",
    "Carl's SOAPXX code outputs a .hdf5 file (from a .xyz file input) giving the labels of the processed files. I've modified it to output in a \"basematrices\" directory the K_base and P_base for each protein. From that, we can work out for a given test protein which atoms are the most similar to atoms in a test set. \n"
   ]
  },
  {
   "cell_type": "code",
   "execution_count": 18,
   "metadata": {},
   "outputs": [],
   "source": [
    "import quippy\n",
    "import ase\n",
    "import numpy as np\n",
    "import h5py\n",
    "import matplotlib.pyplot as plt\n",
    "import os\n",
    "import collections \n",
    "\n",
    "%matplotlib notebook"
   ]
  },
  {
   "cell_type": "code",
   "execution_count": null,
   "metadata": {},
   "outputs": [],
   "source": [
    "path_to_hdf5_file=\"samples2.xyz.hdf5\""
   ]
  },
  {
   "cell_type": "code",
   "execution_count": 3,
   "metadata": {},
   "outputs": [
    {
     "name": "stdout",
     "output_type": "stream",
     "text": [
      "3kexA_nucleo\n"
     ]
    },
    {
     "name": "stderr",
     "output_type": "stream",
     "text": [
      "/home/wpg23/.local/miniconda3/envs/python2env/lib/python2.7/site-packages/h5py/_hl/dataset.py:313: H5pyDeprecationWarning: dataset.value has been deprecated. Use dataset[()] instead.\n",
      "  \"Use dataset[()] instead.\", H5pyDeprecationWarning)\n"
     ]
    }
   ],
   "source": [
    "dataFile = h5py.File(\"../samples2.xyz.hdf5\", \"r\")\n",
    "labels = dataFile[\"labels\"][\"label_mat\"].value\n",
    "average_simscore = generateAverageSimilarity(path_to_matrices, path_to_xyz_file, labels)"
   ]
  },
  {
   "cell_type": "code",
   "execution_count": 11,
   "metadata": {},
   "outputs": [],
   "source": [
    "# Plot the average and std for each class, for the third protein\n",
    "def generateAverageAndCounterSimilarity(path_to_matrices, path_to_xyz_file, labels):\n",
    "    \n",
    "    n_most_common = 10\n",
    "    \n",
    "    for index, _ in enumerate(labels):\n",
    "        label = label[index][1]\n",
    "        hemes = []\n",
    "        nucleos = []\n",
    "        heme_indices = []\n",
    "        nucleo_indices = []\n",
    "    \n",
    "        for i, tag in enumerate(labels):\n",
    "            kerns = np.load(\"{0}/{1}_{2}_kerns.npy\".format(path_to_matrices,index,i))\n",
    "            perms = np.load(\"{0}/{1}_{2}_perms.npy\".format(path_to_matrices,index,i))\n",
    "            atomic_similarity = kerns*perms\n",
    "            # The similarity between each atom of the test protein and the target protein \n",
    "            atomic_similarity = np.sum(atomic_similarity, axis=1)\n",
    "            indices = np.argsort(atomic_similarity)\n",
    "            tag = tag[1]\n",
    "            if \"heme\" in tag:\n",
    "                hemes.append(atomic_similarity)\n",
    "                heme_indices.append(indices)\n",
    "            else:\n",
    "                nucleos.append(atomic_similarity)\n",
    "                nucleo_indices.append(indices)\n",
    "        \n",
    "        hemes = np.asarray(hemes)\n",
    "        nucleos = np.asarray(nucleos)\n",
    "        heme_means = np.mean(hemes, axis=0)\n",
    "        nucleo_means = np.mean(nucleos, axis=0)\n",
    "\n",
    "        # scale to 1, as otherwise the b-factors round out\n",
    "        heme_means /= heme_means.max()\n",
    "        nucleo_means /= nucleo_means.max()\n",
    "\n",
    "        atom_reader = quippy.AtomsReader(path_to_xyz_file, format=\"xyz\")\n",
    "        # Crude, but quick enough for now\n",
    "        for temp_protein in atom_reader:\n",
    "            if temp_protein.params[\"tag\"] == label:\n",
    "                protein = temp_protein\n",
    "                break\n",
    "        else:\n",
    "            print(\"Protein not found!\")\n",
    "            raise ValueError\n",
    "        \n",
    "        # Check that the arrays are the correct length, and referencing the correct protein\n",
    "        assert protein.params[\"tag\"] == label\n",
    "        assert len(heme_means) == len(protein.arrays[\"positions\"])\n",
    "        assert len(nucleo_means) == len(protein.arrays[\"positions\"])\n",
    "\n",
    "        \n",
    "        counter = collections.Counter()\n",
    "        for row in heme_indices:\n",
    "            counter.update(row[-n_most_common:])\n",
    "\n",
    "        heme_counts = np.zeros(len(protein.arrays[\"positions\"]))\n",
    "        for index, count in counter.most_common():\n",
    "            heme_counts[index] = count\n",
    "\n",
    "        counter = collections.Counter()\n",
    "        for row in nucleo_indices:\n",
    "            counter.update(row[-n_most_common:])\n",
    "\n",
    "        nucleo_counts = np.zeros(len(protein.arrays[\"positions\"]))\n",
    "        for index, count in counter.most_common():\n",
    "            nucleo_counts[index] = count\n",
    "            \n",
    "            \n",
    "        assert len(nucleo_counts) == len(nucleo_means)\n",
    "        assert len(heme_counts) == len(heme_means)\n",
    "        \n",
    "        # We have the count-based and average-based similarity scores.\n",
    "        # Now we need to obtain each atom's distance from the ligand.\n",
    "        "
   ]
  },
  {
   "cell_type": "code",
   "execution_count": null,
   "metadata": {},
   "outputs": [],
   "source": [
    "# arrays = []\n",
    "# for i, tag in enumerate(labels):\n",
    "#     kerns = np.load(\"basematrices/{0}_{1}_kerns.npy\".format(index,i))\n",
    "#     perms = np.load(\"basematrices/{0}_{1}_perms.npy\".format(index,i))\n",
    "#     atomic_similarity = kerns*perms\n",
    "#     arrays.append(atomic_similarity)\n",
    "\n",
    "# array_dict = dict(zip([x[1] for x in labels], arrays))\n",
    "# np.savez_compressed(file=\"150\", **array_dict)"
   ]
  },
  {
   "cell_type": "code",
   "execution_count": null,
   "metadata": {},
   "outputs": [],
   "source": []
  }
 ],
 "metadata": {
  "kernelspec": {
   "display_name": "Python 2",
   "language": "python",
   "name": "python2"
  },
  "language_info": {
   "codemirror_mode": {
    "name": "ipython",
    "version": 2
   },
   "file_extension": ".py",
   "mimetype": "text/x-python",
   "name": "python",
   "nbconvert_exporter": "python",
   "pygments_lexer": "ipython2",
   "version": "2.7.15"
  }
 },
 "nbformat": 4,
 "nbformat_minor": 2
}
