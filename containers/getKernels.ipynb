{
 "cells": [
  {
   "cell_type": "code",
   "execution_count": null,
   "metadata": {},
   "outputs": [],
   "source": [
    "\"\"\"\n",
    "getKernels.ipynb\n",
    "Given a list of pdbrefs and chainrefs,\n",
    "\n",
    "Remove everything that isn't an alpha-C.\n",
    "Write the whole whole to an xyz file.\n",
    "Run glosim on the xyz file.\n",
    "\"\"\"\n",
    "import quippy\n",
    "import ase\n",
    "import json\n",
    "from ase.atoms import Atoms as AseAtoms "
   ]
  },
  {
   "cell_type": "code",
   "execution_count": null,
   "metadata": {},
   "outputs": [],
   "source": [
    "# Get similarities for all test proteins\n",
    "with open(\"testProteinsFullResidue.txt\") as flines:\n",
    "    proteinPaths = [\"testProteins/\" +line.strip() for line in flines]\n",
    "proteins = []\n",
    "for proteinPath in proteinPaths:\n",
    "    proteins.append(quippy.Atoms(ase.io.read(proteinPath, format='proteindatabank')))\n"
   ]
  },
  {
   "cell_type": "code",
   "execution_count": null,
   "metadata": {},
   "outputs": [],
   "source": [
    "testFamily = quippy.AtomsList(proteins)\n",
    "testFamily.write(\"testProteinsFullPocket.xyz\")\n"
   ]
  },
  {
   "cell_type": "code",
   "execution_count": null,
   "metadata": {},
   "outputs": [],
   "source": [
    "!python /usr/local/src/glosim/glosim.py --kernel rematch -n 12 -l 12 -c 10 -g 0.5 --gamma 0.01 --np 4 /root/PocketSVM/testProteinsFullPocket.xyz # Choose parameters carefully"
   ]
  },
  {
   "cell_type": "code",
   "execution_count": null,
   "metadata": {},
   "outputs": [],
   "source": [
    "quippy.descriptors"
   ]
  },
  {
   "cell_type": "code",
   "execution_count": null,
   "metadata": {},
   "outputs": [],
   "source": [
    "!ls /usr/local/lib/python2.7/site-packages/quippy/"
   ]
  },
  {
   "cell_type": "code",
   "execution_count": null,
   "metadata": {
    "scrolled": true
   },
   "outputs": [],
   "source": [
    "!cat /opt/quip/arch/Makefile.linux_x86_64_gfortran_openmp"
   ]
  },
  {
   "cell_type": "code",
   "execution_count": null,
   "metadata": {},
   "outputs": [],
   "source": []
  }
 ],
 "metadata": {
  "git": {
   "suppress_outputs": true
  },
  "kernelspec": {
   "display_name": "Python 2",
   "language": "python",
   "name": "python2"
  },
  "language_info": {
   "codemirror_mode": {
    "name": "ipython",
    "version": 2
   },
   "file_extension": ".py",
   "mimetype": "text/x-python",
   "name": "python",
   "nbconvert_exporter": "python",
   "pygments_lexer": "ipython2",
   "version": "2.7.14"
  }
 },
 "nbformat": 4,
 "nbformat_minor": 2
}