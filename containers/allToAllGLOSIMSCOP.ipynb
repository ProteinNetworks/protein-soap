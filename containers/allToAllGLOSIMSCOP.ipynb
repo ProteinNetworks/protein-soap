{
 "cells": [
  {
   "cell_type": "code",
   "execution_count": null,
   "metadata": {},
   "outputs": [],
   "source": [
    "\"\"\"\n",
    "allToAllGLOSIM.ipynb\n",
    "Given a list of pdbrefs and chainrefs, perform the community detection on the relevant files. \n",
    "Write out a directory of pdb fragments (that code already exists somewhere). \n",
    "^^ Do this outside the container, as proteinnetworks is in Python 3\n",
    "Remove everything that isn't an alpha-C.\n",
    "Write the whole whole to an xyz file.\n",
    "Run glosim on the xyz file.\n",
    "Run the similarities, perform hierarchical clustering\n",
    "Check the match to SCOP.\n",
    "\"\"\"\n",
    "import quippy\n",
    "import ase\n",
    "import palettable\n",
    "import numpy as np\n",
    "import seaborn as sns\n",
    "import matplotlib.pyplot as plt\n",
    "from ase.atoms import Atoms as AseAtoms\n",
    "%matplotlib inline\n"
   ]
  },
  {
   "cell_type": "code",
   "execution_count": null,
   "metadata": {},
   "outputs": [],
   "source": [
    "# Get similarities for all test proteins\n",
    "with open(\"scopFragments.txt\") as flines:\n",
    "    scopPaths = [\"scopFragments/\" +line.strip() for line in flines]\n",
    "proteins = []\n",
    "for proteinPath in scopPaths:\n",
    "    proteins.append(quippy.Atoms(ase.io.read(proteinPath, format='proteindatabank')))\n"
   ]
  },
  {
   "cell_type": "code",
   "execution_count": null,
   "metadata": {},
   "outputs": [],
   "source": [
    "scopFamily = quippy.AtomsList(proteins)\n",
    "scopFamily.write(\"scopFamily2.xyz\")\n"
   ]
  },
  {
   "cell_type": "code",
   "execution_count": null,
   "metadata": {},
   "outputs": [],
   "source": [
    "!python /usr/local/src/glosim/glosim.py --kernel rematch -n 10 -l 10 -c 15 -g 1.5 --gamma 0.01 --np 4 /root/allToAllGLOSIMCheck/scopFamily2.xyz # Choose parameters carefully"
   ]
  },
  {
   "cell_type": "code",
   "execution_count": null,
   "metadata": {},
   "outputs": [],
   "source": [
    "def plotKernelMatrix(inputArray):\n",
    "    data = np.array(inputArray,dtype=float)\n",
    "    print(data)\n",
    "    cmap = palettable.cubehelix.purple_16.mpl_colormap\n",
    "    sns.heatmap(data, vmin=0, vmax=1,cmap=cmap)\n",
    "    plt.show()\n",
    "    \n"
   ]
  },
  {
   "cell_type": "code",
   "execution_count": null,
   "metadata": {},
   "outputs": [],
   "source": [
    "with open(\"scopFamily-n10-l10-c15.0-g1.5_rematch-0.01.k\") as flines:\n",
    "    glosimData = [line.strip() for line in flines][1:]\n",
    "\n",
    "glosimData = np.asarray([line.split() for line in glosimData], dtype=float)\n",
    "# strip nans\n",
    "glosimData = np.nan_to_num(glosimData)\n",
    "plotKernelMatrix(glosimData)\n"
   ]
  },
  {
   "cell_type": "code",
   "execution_count": null,
   "metadata": {},
   "outputs": [],
   "source": [
    "with open(\"scopFamily2-n10-l10-c15.0-g1.5_rematch-0.01.k\") as flines:\n",
    "    glosimData2 = [line.strip() for line in flines][1:]\n",
    "\n",
    "glosimData2 = np.asarray([line.split() for line in glosimData2], dtype=float)\n",
    "# strip nans\n",
    "glosimData2 = np.nan_to_num(glosimData2)\n",
    "plotKernelMatrix(glosimData2)\n"
   ]
  },
  {
   "cell_type": "code",
   "execution_count": null,
   "metadata": {},
   "outputs": [],
   "source": [
    "import numpy as np\n",
    "import seaborn as sns\n",
    "import matplotlib.pyplot as plt\n",
    "import pandas as pd"
   ]
  },
  {
   "cell_type": "code",
   "execution_count": null,
   "metadata": {},
   "outputs": [],
   "source": [
    "\n",
    "g = sns.clustermap(glosimData2)"
   ]
  },
  {
   "cell_type": "code",
   "execution_count": null,
   "metadata": {},
   "outputs": [],
   "source": [
    "# print(glosimData) \n",
    "with open(\"scopFragments.txt\") as flines:\n",
    "    proteinPaths = [line.strip().split(\".\")[0] for line in flines]\n",
    "\n",
    "df = pd.DataFrame(glosimData2, columns=proteinPaths)\n",
    "dictSwap = {i: x for i,x in enumerate(proteinPaths)}\n",
    "df.rename(index=dictSwap, inplace=True)\n",
    "df.head()\n"
   ]
  },
  {
   "cell_type": "code",
   "execution_count": null,
   "metadata": {},
   "outputs": [],
   "source": [
    "g = sns.clustermap(df, yticklabels=\"auto\", figsize=(15,15))"
   ]
  },
  {
   "cell_type": "code",
   "execution_count": null,
   "metadata": {},
   "outputs": [],
   "source": [
    "g.savefig(\"scopClustering.pdf\", dpi=300)\n",
    "g.savefig(\"scopClustering.png\", dpi=300)"
   ]
  },
  {
   "cell_type": "code",
   "execution_count": null,
   "metadata": {},
   "outputs": [],
   "source": [
    "g.dendrogram_col.linkage"
   ]
  },
  {
   "cell_type": "code",
   "execution_count": null,
   "metadata": {},
   "outputs": [],
   "source": [
    "from scipy.cluster import hierarchy\n",
    "row_linkage = hierarchy.linkage(df, method='average')\n"
   ]
  },
  {
   "cell_type": "code",
   "execution_count": null,
   "metadata": {},
   "outputs": [],
   "source": [
    "print(row_linkage)"
   ]
  },
  {
   "cell_type": "code",
   "execution_count": null,
   "metadata": {},
   "outputs": [],
   "source": [
    "sns.heatmap(row_linkage)"
   ]
  },
  {
   "cell_type": "code",
   "execution_count": null,
   "metadata": {},
   "outputs": [],
   "source": [
    "fcluster = hierarchy.fcluster(row_linkage, t=1)\n",
    "np.set_printoptions(threshold=np.nan)\n",
    "print(fcluster)"
   ]
  },
  {
   "cell_type": "code",
   "execution_count": null,
   "metadata": {},
   "outputs": [],
   "source": [
    "[print()]"
   ]
  }
 ],
 "metadata": {
  "git": {
   "suppress_outputs": true
  },
  "kernelspec": {
   "display_name": "Python 2",
   "language": "python",
   "name": "python2"
  },
  "language_info": {
   "codemirror_mode": {
    "name": "ipython",
    "version": 2
   },
   "file_extension": ".py",
   "mimetype": "text/x-python",
   "name": "python",
   "nbconvert_exporter": "python",
   "pygments_lexer": "ipython2",
   "version": "2.7.14"
  }
 },
 "nbformat": 4,
 "nbformat_minor": 2
}