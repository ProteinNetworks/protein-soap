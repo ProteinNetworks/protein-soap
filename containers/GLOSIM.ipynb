{
 "cells": [
  {
   "cell_type": "code",
   "execution_count": 1,
   "metadata": {},
   "outputs": [],
   "source": [
    "import quippy\n",
    "import ase\n",
    "from ase.atoms import Atoms as AseAtoms "
   ]
  },
  {
   "cell_type": "code",
   "execution_count": 2,
   "metadata": {},
   "outputs": [],
   "source": [
    "protein = quippy.Atoms(ase.io.read(\"1ubq.pdb\", format='proteindatabank'))\n"
   ]
  },
  {
   "cell_type": "code",
   "execution_count": 3,
   "metadata": {},
   "outputs": [],
   "source": [
    "# randomly permute the contents of 1ubq.pdb\n",
    "with open(\"1ubq.pdb\") as flines:\n",
    "    data = [line.strip() for line in flines]"
   ]
  },
  {
   "cell_type": "code",
   "execution_count": 4,
   "metadata": {},
   "outputs": [],
   "source": [
    "data"
   ]
  },
  {
   "cell_type": "code",
   "execution_count": 5,
   "metadata": {},
   "outputs": [],
   "source": [
    "import numpy as np\n",
    "np.random.shuffle(data)\n"
   ]
  },
  {
   "cell_type": "code",
   "execution_count": 6,
   "metadata": {},
   "outputs": [],
   "source": [
    "with open(\"1ubq_2.pdb\", 'w') as outflines:\n",
    "    outflines.write(\"\\n\".join(data))"
   ]
  },
  {
   "cell_type": "code",
   "execution_count": 7,
   "metadata": {},
   "outputs": [],
   "source": [
    "!cat 1ubq_2.pdb"
   ]
  },
  {
   "cell_type": "code",
   "execution_count": 8,
   "metadata": {},
   "outputs": [],
   "source": [
    "proteinShuffled = quippy.Atoms(ase.io.read(\"1ubq_2.pdb\", format='proteindatabank'))"
   ]
  },
  {
   "cell_type": "code",
   "execution_count": 9,
   "metadata": {},
   "outputs": [],
   "source": [
    "# Create an AtomsList, that is then written to an xyz file\n",
    "twoUbiquitins = quippy.AtomsList([protein, proteinShuffled])"
   ]
  },
  {
   "cell_type": "code",
   "execution_count": 10,
   "metadata": {},
   "outputs": [],
   "source": [
    "twoUbiquitins.write(\"twoproteins.xyz\")"
   ]
  },
  {
   "cell_type": "code",
   "execution_count": 11,
   "metadata": {},
   "outputs": [],
   "source": [
    "!cat twoproteins.xyz"
   ]
  },
  {
   "cell_type": "code",
   "execution_count": 12,
   "metadata": {
    "scrolled": false
   },
   "outputs": [],
   "source": [
    "!python /usr/local/src/glosim/glosim.py --help"
   ]
  },
  {
   "cell_type": "code",
   "execution_count": 13,
   "metadata": {},
   "outputs": [],
   "source": [
    "!python /usr/local/src/glosim/glosim.py /root/twoproteins.xyz"
   ]
  },
  {
   "cell_type": "code",
   "execution_count": 14,
   "metadata": {},
   "outputs": [],
   "source": [
    "!python /usr/local/src/glosim/glosim.py /root/twoproteins.xyz --kernel average"
   ]
  },
  {
   "cell_type": "code",
   "execution_count": 15,
   "metadata": {},
   "outputs": [],
   "source": [
    "# Get similarities for all ubq-like proteins\n",
    "import glob\n",
    "proteinPaths = glob.glob(\"testproteins/ubqLike/*.pdb\")\n",
    "proteins = []\n",
    "for proteinPath in proteinPaths:\n",
    "    proteins.append(quippy.Atoms(ase.io.read(proteinPath, format='proteindatabank')))\n"
   ]
  },
  {
   "cell_type": "code",
   "execution_count": 16,
   "metadata": {},
   "outputs": [],
   "source": [
    "proteins"
   ]
  },
  {
   "cell_type": "code",
   "execution_count": 17,
   "metadata": {},
   "outputs": [],
   "source": [
    "ubqLike = quippy.AtomsList(proteins)\n",
    "ubqLike.write(\"ubqLike.xyz\")\n"
   ]
  },
  {
   "cell_type": "code",
   "execution_count": 18,
   "metadata": {},
   "outputs": [],
   "source": [
    "!python /usr/local/src/glosim/glosim.py /root/ubqLike.xyz"
   ]
  },
  {
   "cell_type": "code",
   "execution_count": 19,
   "metadata": {},
   "outputs": [],
   "source": [
    "glob.glob(\"testproteins/ubqLike/*.pdb\") # The rows of the matrix"
   ]
  },
  {
   "cell_type": "code",
   "execution_count": 20,
   "metadata": {},
   "outputs": [],
   "source": [
    "# run TM align, compare\n",
    "import glob\n",
    "tmalignscores = []\n",
    "for pdb in glob.glob(\"testproteins/ubqLike/*.pdb\"):\n",
    "    tmalignscore = []\n",
    "    for pdb2 in glob.glob(\"testproteins/ubqLike/*.pdb\"):\n",
    "        data = !./testproteins/TMalign -a T {pdb} {pdb2}\n",
    "        TMScore = float([line for line in data if line.startswith(\"TM-score\")][2][9:18])\n",
    "        tmalignscore.append(TMScore)\n",
    "    tmalignscores.append(tmalignscore)\n",
    "    "
   ]
  },
  {
   "cell_type": "code",
   "execution_count": 21,
   "metadata": {},
   "outputs": [],
   "source": [
    "tmalignscores"
   ]
  },
  {
   "cell_type": "code",
   "execution_count": 22,
   "metadata": {},
   "outputs": [],
   "source": [
    "def plotKernelMatrix(inputArray):\n",
    "    import palettable\n",
    "    import numpy as np\n",
    "    import seaborn as sns\n",
    "    import matplotlib.pyplot as plt\n",
    "    \n",
    "    data = np.array(inputArray,dtype=float)\n",
    "    print(data)\n",
    "    cmap = palettable.cubehelix.purple_16.mpl_colormap\n",
    "    sns.heatmap(data, vmin=0, vmax=1,cmap=cmap)\n",
    "    plt.show()\n",
    "    \n"
   ]
  },
  {
   "cell_type": "code",
   "execution_count": 23,
   "metadata": {},
   "outputs": [],
   "source": [
    "%matplotlib inline\n",
    "plotKernelMatrix(tmalignscores)\n"
   ]
  },
  {
   "cell_type": "code",
   "execution_count": 24,
   "metadata": {},
   "outputs": [],
   "source": [
    "with open(\"ubqLike-n8-l6-c5.0-g0.5_match.k\") as flines:\n",
    "    data = [line.strip() for line in flines][1:]\n",
    "\n",
    "data = [line.split() for line in data]\n",
    "plotKernelMatrix(data)\n"
   ]
  },
  {
   "cell_type": "code",
   "execution_count": 26,
   "metadata": {},
   "outputs": [],
   "source": [
    "glob.glob(\"testproteins/ubqLike/*.pdb\")"
   ]
  },
  {
   "cell_type": "code",
   "execution_count": 27,
   "metadata": {},
   "outputs": [],
   "source": [
    "# The difference lies in the match between 1wz0 and 2k1f, both of which\n",
    "# have long tails"
   ]
  },
  {
   "cell_type": "code",
   "execution_count": 28,
   "metadata": {},
   "outputs": [],
   "source": [
    "from IPython.display import Image\n",
    "Image(\"testproteins/ubqLike/ubqLike.png\")"
   ]
  },
  {
   "cell_type": "code",
   "execution_count": null,
   "metadata": {},
   "outputs": [],
   "source": []
  }
 ],
 "metadata": {
  "git": {
   "suppress_outputs": true
  },
  "kernelspec": {
   "display_name": "Python 2",
   "language": "python",
   "name": "python2"
  },
  "language_info": {
   "codemirror_mode": {
    "name": "ipython",
    "version": 2
   },
   "file_extension": ".py",
   "mimetype": "text/x-python",
   "name": "python",
   "nbconvert_exporter": "python",
   "pygments_lexer": "ipython2",
   "version": "2.7.14"
  }
 },
 "nbformat": 4,
 "nbformat_minor": 2
}