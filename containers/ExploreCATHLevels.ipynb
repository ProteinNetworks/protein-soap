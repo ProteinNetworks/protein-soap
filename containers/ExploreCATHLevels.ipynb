{
 "cells": [
  {
   "cell_type": "code",
   "execution_count": 3,
   "metadata": {},
   "outputs": [],
   "source": [
    "\"\"\"\n",
    "Use the level0, level1, level2 of the CATH hierarchy data to explore\n",
    "how the SOAP descriptors change for different functional groupings\n",
    "\"\"\"\n",
    "\n",
    "%matplotlib inline\n",
    "import requests\n",
    "import ase\n",
    "import quippy\n",
    "import numpy as np\n",
    "import seaborn as sns\n",
    "import matplotlib.pyplot as plt\n",
    "\n",
    "def plotKernelMatrix(inputArray):\n",
    "    import palettable\n",
    "    import numpy as np\n",
    "    import seaborn as sns\n",
    "    import matplotlib.pyplot as plt\n",
    "    \n",
    "    data = np.array(inputArray,dtype=float)\n",
    "#     print(data)\n",
    "    cmap = palettable.cubehelix.purple_16.mpl_colormap\n",
    "    sns.heatmap(data, vmin=0, vmax=1,cmap=cmap)\n",
    "    plt.show()"
   ]
  },
  {
   "cell_type": "code",
   "execution_count": 4,
   "metadata": {},
   "outputs": [],
   "source": [
    "with open(\"testproteins/level1-n8-l6-c5.0-g0.5_rematch-1.0.k\") as flines:\n",
    "    data = [line.strip() for line in flines][1:]\n",
    "\n",
    "data = [line.split() for line in data]\n",
    "plotKernelMatrix(data)"
   ]
  },
  {
   "cell_type": "code",
   "execution_count": 22,
   "metadata": {},
   "outputs": [],
   "source": [
    "# quickly rattle off the level 0 values\n",
    "with open(\"testproteins/level1.dat\") as flines:\n",
    "    inputProteins = eval(flines.read())\n",
    "    print(inputProteins)\n",
    "\n",
    "listOfAtoms = []\n",
    "for proteinId in inputProteins:\n",
    "    # Pull the pdb file\n",
    "    pdb = proteinId[:4]\n",
    "    chain = proteinId[4]\n",
    "    print(pdb)\n",
    "    url = \"http://www.rcsb.org/pdb/files/{}.pdb\".format(pdb)\n",
    "    data = requests.get(url).text.split(\"\\n\")\n",
    "    newData = []\n",
    "    # Trim so it's single-chain\n",
    "    for line in data:\n",
    "        if line[:4] != \"ATOM\" or (line[:4] == \"ATOM\" and line[21] == chain):\n",
    "            newData.append(line)\n",
    "    with open(\"temp.pdb\", 'w') as outflines:\n",
    "        outflines.write(\"\\n\".join(newData))        \n",
    "    #Create an Atoms object\n",
    "    protein = quippy.Atoms(ase.io.read(\"temp.pdb\", format='proteindatabank'))\n",
    "    listOfAtoms.append(protein)\n",
    "\n",
    "# Make the AtomsList\n",
    "listOfAtoms = quippy.AtomsList(listOfAtoms)\n",
    "# Write an xyz file\n",
    "listOfAtoms.write(\"temp.xyz\")\n",
    "# run glosim\n",
    "!python /usr/local/src/glosim/glosim.py /root/temp.xyz --kernel rematch --prefix level0\n",
    "# save output?"
   ]
  },
  {
   "cell_type": "code",
   "execution_count": 5,
   "metadata": {},
   "outputs": [],
   "source": [
    "# How best to compare? Histogram?\n",
    "with open(\"level0-n8-l6-c5.0-g0.5_rematch-1.0.k\") as flines:\n",
    "    data = [line.strip() for line in flines][1:]\n",
    "\n",
    "data = [line.split() for line in data]\n",
    "plotKernelMatrix(data)"
   ]
  },
  {
   "cell_type": "code",
   "execution_count": 6,
   "metadata": {},
   "outputs": [],
   "source": [
    "\n",
    "def plotKernelMatrixValues(inputArray):\n",
    "    # given a square kernel matrix, plot the histogram of its values\n",
    "#     import palettable\n",
    "\n",
    "    \n",
    "    sns.set()\n",
    "    # Get the elements of the upper triangle as a 1d array\n",
    "    data = np.array(inputArray,dtype=float)\n",
    "    indicesOfUpperTriangle = np.triu_indices(len(data), k=1)\n",
    "    listOfElements = data[indicesOfUpperTriangle]\n",
    "    # plot with distplot\n",
    "    ax = sns.kdeplot(listOfElements)\n",
    "    ax.set_xlim([0,1])\n",
    "    ax.set_xlabel(\"Similarity\")\n",
    "    return ax\n",
    "    "
   ]
  },
  {
   "cell_type": "code",
   "execution_count": 7,
   "metadata": {},
   "outputs": [],
   "source": [
    "with open(\"testproteins/level1-n8-l6-c5.0-g0.5_rematch-1.0.k\") as flines:\n",
    "    data = [line.strip() for line in flines][1:]\n",
    "\n",
    "data = [line.split() for line in data]\n",
    "ax = plotKernelMatrixValues(data)\n",
    "ax.set_title(\"GLOSIM histogram level 1\")\n",
    "plt.show()"
   ]
  },
  {
   "cell_type": "code",
   "execution_count": 8,
   "metadata": {},
   "outputs": [],
   "source": [
    "# strip infs\n",
    "def stripInfs(inputArray):\n",
    "    data = np.array(inputArray, dtype=float)\n",
    "    for i, row in enumerate(data):\n",
    "        if not np.isfinite(row[0]):\n",
    "            data = np.delete(data, i, axis=0)\n",
    "            data = np.delete(data, i, axis=1)\n",
    "            \n",
    "    return data"
   ]
  },
  {
   "cell_type": "code",
   "execution_count": 19,
   "metadata": {},
   "outputs": [],
   "source": [
    "\n",
    "sns.set()\n",
    "sns.set_context(\"poster\")\n",
    "\n",
    "fig, ax = plt.subplots(figsize=(10,10))\n",
    "\n",
    "for i in [0,1]:\n",
    "    with open(\"testproteins/level{}-n8-l6-c5.0-g0.5_rematch-1.0.k\".format(i)) as flines:\n",
    "        data = [line.strip() for line in flines][1:]\n",
    "    data = [line.split() for line in data]\n",
    "    data = stripInfs(data)\n",
    "    # Get the elements of the upper triangle as a 1d array\n",
    "    indicesOfUpperTriangle = np.triu_indices(len(data), k=1)\n",
    "    listOfElements = data[indicesOfUpperTriangle]\n",
    "    # plot with distplot\n",
    "    sns.kdeplot(listOfElements, ax=ax, label=\"Level {}\".format(i))\n",
    "\n",
    "ax.set_xlim([0,1])\n",
    "ax.set_xlabel(\"Similarity\")\n",
    "ax.set_title(\"GLOSIM similarity for two CATH levels\")\n",
    "plt.show()"
   ]
  },
  {
   "cell_type": "code",
   "execution_count": 16,
   "metadata": {},
   "outputs": [],
   "source": []
  },
  {
   "cell_type": "code",
   "execution_count": null,
   "metadata": {},
   "outputs": [],
   "source": []
  }
 ],
 "metadata": {
  "git": {
   "suppress_outputs": true
  },
  "kernelspec": {
   "display_name": "Python 2",
   "language": "python",
   "name": "python2"
  },
  "language_info": {
   "codemirror_mode": {
    "name": "ipython",
    "version": 2
   },
   "file_extension": ".py",
   "mimetype": "text/x-python",
   "name": "python",
   "nbconvert_exporter": "python",
   "pygments_lexer": "ipython2",
   "version": "2.7.14"
  }
 },
 "nbformat": 4,
 "nbformat_minor": 2
}