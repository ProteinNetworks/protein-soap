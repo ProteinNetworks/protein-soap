{
 "cells": [
  {
   "cell_type": "markdown",
   "metadata": {},
   "source": [
    "# GLOSIMMultiLevel\n",
    "\n",
    "In level1.dat etc we have different levels of protein hierarchy, as an CATH. So in level1 proteins are distinct classes, in level2 proteins share a class but have different architecture, in level3 proteins share an architecture but have different superfamily, and in level proteins are in the same superfamily. THe hypothesis is that SOAP tells us something useful about the protein, so if we get the similarity matrices at each level superfamilies should be similar, architectures less so, etc.\n",
    "\n",
    "### Algo\n",
    "\n",
    "- import datafiles\n",
    "- for each level:\n",
    "    - choose a group randomly (as level2, level3, level4 are lists of groups\n",
    "    - for each protein, pull the pdb file and create an Atoms object\n",
    "    - create an AtomList from the Atoms\n",
    "    - write out a .xyz file\n",
    "    - run glosim on the xyz file\n",
    "    - save the glosim output"
   ]
  },
  {
   "cell_type": "code",
   "execution_count": 16,
   "metadata": {},
   "outputs": [],
   "source": [
    "import glob\n",
    "dataFiles = dict()\n",
    "for i, dataFile in enumerate([\"testproteins/level1.dat\", \"testproteins/level2.dat\", \"testproteins/level3.dat\", \"testproteins/level4.dat\"]):\n",
    "    with open(dataFile) as flines:\n",
    "        dataFiles[i] = eval(flines.read())\n",
    "print(dataFiles)"
   ]
  },
  {
   "cell_type": "code",
   "execution_count": null,
   "metadata": {
    "scrolled": false
   },
   "outputs": [],
   "source": [
    "import random\n",
    "import quippy\n",
    "import ase\n",
    "import requests\n",
    "\n",
    "# level 0 is special\n",
    "for i in [1,2,3]:\n",
    "    inputProteins = dataFiles[i]\n",
    "    # choose a sublist randomly\n",
    "    inputProteinsSpecific = random.choice(inputProteins)\n",
    "    print(inputProteinsSpecific)\n",
    "    listOfAtoms = []\n",
    "    for proteinId in inputProteinsSpecific:\n",
    "        # Pull the pdb file\n",
    "        pdb = proteinId[:4]\n",
    "        chain = proteinId[4]\n",
    "        print(pdb)\n",
    "        url = \"http://www.rcsb.org/pdb/files/{}.pdb\".format(pdb)\n",
    "        data = requests.get(url).text.split(\"\\n\")\n",
    "        newData = []\n",
    "        # Trim so it's single-chain\n",
    "        for line in data:\n",
    "            if line[:4] != \"ATOM\" or (line[:4] == \"ATOM\" and line[21] == chain):\n",
    "                newData.append(line)\n",
    "        with open(\"temp.pdb\", 'w') as outflines:\n",
    "            outflines.write(\"\\n\".join(newData))        \n",
    "        #Create an Atoms object\n",
    "        protein = quippy.Atoms(ase.io.read(\"temp.pdb\", format='proteindatabank'))\n",
    "        listOfAtoms.append(protein)\n",
    "    \n",
    "    # Make the AtomsList\n",
    "    listOfAtoms = quippy.AtomsList(listOfAtoms)\n",
    "    # Write an xyz file\n",
    "    listOfAtoms.write(\"temp.xyz\")\n",
    "    # run glosim\n",
    "    !python /usr/local/src/glosim/glosim.py /root/temp.xyz --kernel match --np 4 --prefix level{i}\n",
    "    # save output?\n"
   ]
  },
  {
   "cell_type": "code",
   "execution_count": null,
   "metadata": {},
   "outputs": [],
   "source": []
  }
 ],
 "metadata": {
  "git": {
   "suppress_outputs": true
  },
  "kernelspec": {
   "display_name": "Python 2",
   "language": "python",
   "name": "python2"
  },
  "language_info": {
   "codemirror_mode": {
    "name": "ipython",
    "version": 2
   },
   "file_extension": ".py",
   "mimetype": "text/x-python",
   "name": "python",
   "nbconvert_exporter": "python",
   "pygments_lexer": "ipython2",
   "version": "2.7.14"
  }
 },
 "nbformat": 4,
 "nbformat_minor": 2
}